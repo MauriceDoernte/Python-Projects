{
 "cells": [
  {
   "cell_type": "markdown",
   "metadata": {},
   "source": [
    "### **Aufgabe**\n",
    "\n",
    "Entwickle ein Python-Programm, das als Taschenrechner für einfache mathematische Operationen (Addition, Subtraktion, Multiplikation, Division) fungiert. Das Programm soll den Benutzer zuerst fragen, welche Operation durchgeführt werden soll. Anschließend fragt es nach zwei Zahlen, führt die gewählte Operation mit diesen Zahlen durch und gibt das Ergebnis aus. Beachte dabei die korrekte Anwendung von Datentypen, die Implementierung von Kontrollstrukturen sowie die korrekte Verwendung von Kommentaren im Code. \n",
    "\n",
    "**a)** Fordere den Benutzer auf, eine Operation auszuwählen, indem er einen der folgenden Buchstaben eingibt: A für Addition, S für Subtraktion, M für Multiplikation, D für Division.\n",
    "\n",
    "**b)** Frage den Benutzer nach zwei Zahlen.\n",
    "\n",
    "**c)** Führe die ausgewählte Operation mit diesen Zahlen durch und gib das Ergebnis aus.\n",
    "\n",
    "**d)** Implementiere eine Fehlerbehandlung für den Fall, dass bei der Division durch Null versucht wird oder ein ungültiger Operator eingegeben wird.\n",
    "\n",
    "**e)** Verwende Kommentare im Code, um die Logik hinter den einzelnen Schritten zu erklären. "
   ]
  },
  {
   "cell_type": "code",
   "execution_count": 2,
   "metadata": {},
   "outputs": [
    {
     "name": "stdout",
     "output_type": "stream",
     "text": [
      "#####Welcome to the calcuator app!##### \n",
      "\n",
      "Which math operation would you like to execute?\n",
      "----------------------------------------------------------------------\n",
      "Please enter valid method of operation.\n",
      "Please enter valid method of operation.\n",
      "Please enter valid method of operation.\n",
      "Please enter valid method of operation.\n",
      "Please enter valid method of operation.\n",
      "Please enter valid method of operation.\n",
      "Please enter valid method of operation.\n",
      "Please enter valid method of operation.\n",
      "----------------------------------------\n",
      "Adding your numbers:\n",
      "The result of your addition is: 20.0\n"
     ]
    },
    {
     "data": {
      "text/plain": [
       "''"
      ]
     },
     "execution_count": 2,
     "metadata": {},
     "output_type": "execute_result"
    }
   ],
   "source": [
    "# Print a phrase welcoming the user\n",
    "print('##### Welcome to this amazing calcuator-app! ##### \\n\\n')        \n",
    "\n",
    "# Indicate the start of the program by dashed lines\n",
    "print('-'*70)\n",
    "\n",
    "# Start a while loop to restart or quit the program when once the process is done                                                       \n",
    "while True:\n",
    "    \n",
    "    # Ensure correct input for math operation\n",
    "    while True:\n",
    "        \n",
    "        # pick the operation method \n",
    "        print('Which math operation would you like to execute?')        \n",
    "        mathOperation = input(\"'A' - addition 'S' - subtraction 'M' - multiplication 'D' - division >> \")\n",
    "        \n",
    "        # Check math operation if appropriate character is given end loop after number selection\n",
    "        # in all other cases print error message and restart the query\n",
    "        if mathOperation in {'A','S','M', 'D'}:                         \n",
    "            \n",
    "            # Guarantee proper number format \n",
    "            while True:                                                 \n",
    "                try:                                                    \n",
    "                    firstNumber = float(input('Insert first Number >> '))   \n",
    "                    secondNumber = float(input('Insert second Number >> ')) \n",
    "                    break                                               \n",
    "                # if wrong type is provided print error message and restart query\n",
    "                except ValueError:                                      \n",
    "                    print('Value Error please enter valid numbers')     \n",
    "                    pass\n",
    "            break                                                       \n",
    "        else:                                                           \n",
    "            print('Please enter valid method of operation.')            \n",
    "            pass        \n",
    "    \n",
    "    # Indicate the start of the calculation\n",
    "    print('-'*70)                                                        \n",
    "\n",
    "    # Perform selected math operation:\n",
    "    # print method, aquire and print result \n",
    "    if mathOperation == 'A':                                                            \n",
    "        print('Adding your numbers:')                                    \n",
    "        resultAddition = firstNumber + secondNumber                      \n",
    "        print(('The result of your addition is: {}').format(resultAddition)) \n",
    "\n",
    "    elif mathOperation == 'S':                                           \n",
    "        print('Subtracting your numbers:')\n",
    "        resultSubtraction = firstNumber - secondNumber\n",
    "        print(('The result of your subtraction is: {}').format(resultSubtraction))\n",
    "\n",
    "    elif mathOperation == 'M':\n",
    "        print('Multiplying your numbers:')\n",
    "        resultMultiplication = firstNumber * secondNumber\n",
    "        print(('The result of your multiplication is: {}').format(resultMultiplication))\n",
    "\n",
    "    elif mathOperation == 'D':\n",
    "        print('Dividing your numbers:')\n",
    "        # in case of dividing by 0 show error message in \n",
    "        # all other cases perform division\n",
    "        try:\n",
    "            resultDivision = firstNumber / secondNumber\n",
    "            print(('The result of your division is: {}').format(resultDivision))\n",
    "        except ZeroDivisionError:\n",
    "            print('Error due to attempt of dividing by zero')\n",
    "    else:\n",
    "        pass\n",
    "    \n",
    "    # ask user if they wan to quit the program.\n",
    "    quitProcess = input(\"Press 'y' to quit or any other to continue >> \") \n",
    "    if quitProcess == 'y':\n",
    "        break\n",
    "    else:\n",
    "        print('-'*70)\n",
    "        pass\n"
   ]
  },
  {
   "cell_type": "code",
   "execution_count": 19,
   "metadata": {},
   "outputs": [
    {
     "data": {
      "text/plain": [
       "True"
      ]
     },
     "execution_count": 19,
     "metadata": {},
     "output_type": "execute_result"
    }
   ],
   "source": [
    "mathOperation = 'A'\n",
    "mathOperation in {'A','S','M', 'D'} "
   ]
  },
  {
   "cell_type": "code",
   "execution_count": 1,
   "metadata": {},
   "outputs": [
    {
     "data": {
      "text/plain": [
       "0.0"
      ]
     },
     "execution_count": 1,
     "metadata": {},
     "output_type": "execute_result"
    }
   ],
   "source": [
    "0/1"
   ]
  }
 ],
 "metadata": {
  "kernelspec": {
   "display_name": "base",
   "language": "python",
   "name": "python3"
  },
  "language_info": {
   "codemirror_mode": {
    "name": "ipython",
    "version": 3
   },
   "file_extension": ".py",
   "mimetype": "text/x-python",
   "name": "python",
   "nbconvert_exporter": "python",
   "pygments_lexer": "ipython3",
   "version": "3.11.7"
  }
 },
 "nbformat": 4,
 "nbformat_minor": 2
}
